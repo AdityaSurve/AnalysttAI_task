{
 "cells": [
  {
   "cell_type": "code",
   "execution_count": 125,
   "metadata": {},
   "outputs": [],
   "source": [
    "from bs4 import BeautifulSoup\n",
    "import requests\n",
    "import pandas as pd\n",
    "import numpy as np"
   ]
  },
  {
   "cell_type": "code",
   "execution_count": 134,
   "metadata": {},
   "outputs": [],
   "source": [
    "Header = ({'UserAgent':\"Mozilla/5.0 (Windows NT 10.0; Win64; x64) AppleWebKit/537.36 (KHTML, like Gecko) Chrome/113.0.0.0 Safari/537.36 Edg/113.0.1774.50\", 'Accept-Language':\"en-US,en;q=0.5\"})"
   ]
  },
  {
   "cell_type": "code",
   "execution_count": 135,
   "metadata": {},
   "outputs": [],
   "source": [
    "Links = []\n",
    "for i in range(20):\n",
    "    Amazon_Path = \"https://www.amazon.in/s?k=bags&crid=2M096C61O4MLT&qid=1653308124&sprefix=ba%2Caps%2C283&ref=sr_pg_\" + str(i+1)\n",
    "    Amazon_Page = requests.get(Amazon_Path, headers=Header)\n",
    "    Amazon_Soup = BeautifulSoup(Amazon_Page.content, 'html.parser')\n",
    "    Link = Amazon_Soup.find_all(\"a\", attrs={\"class\": \"a-link-normal s-underline-text s-underline-link-text s-link-style a-text-normal\"})\n",
    "    Link = [l.get(\"href\") for l in Link]\n",
    "    Link = [\"https://www.amazon.in\" + l for l in Link]\n",
    "    Links.extend(Link)"
   ]
  },
  {
   "cell_type": "code",
   "execution_count": 136,
   "metadata": {},
   "outputs": [
    {
     "data": {
      "text/plain": [
       "96"
      ]
     },
     "execution_count": 136,
     "metadata": {},
     "output_type": "execute_result"
    }
   ],
   "source": [
    "len(Links)"
   ]
  },
  {
   "cell_type": "code",
   "execution_count": 163,
   "metadata": {},
   "outputs": [],
   "source": [
    "title = []\n",
    "for l in Links:\n",
    "    link_page = requests.get(l, headers=Header)\n",
    "    link_soup = BeautifulSoup(link_page.content, 'html.parser')\n",
    "    name = link_soup.find(\"span\", attrs={\"id\": \"productTitle\", \"class\": \"a-size-large product-title-word-break\"})\n",
    "    if name is not None:\n",
    "        name = name.get_text(strip=True)\n",
    "        title.extend(name)"
   ]
  }
 ],
 "metadata": {
  "kernelspec": {
   "display_name": "Python 3",
   "language": "python",
   "name": "python3"
  },
  "language_info": {
   "codemirror_mode": {
    "name": "ipython",
    "version": 3
   },
   "file_extension": ".py",
   "mimetype": "text/x-python",
   "name": "python",
   "nbconvert_exporter": "python",
   "pygments_lexer": "ipython3",
   "version": "3.10.9"
  },
  "orig_nbformat": 4
 },
 "nbformat": 4,
 "nbformat_minor": 2
}
