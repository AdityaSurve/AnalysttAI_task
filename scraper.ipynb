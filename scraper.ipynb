{
 "cells": [
  {
   "cell_type": "code",
   "execution_count": 79,
   "metadata": {},
   "outputs": [],
   "source": [
    "from bs4 import BeautifulSoup\n",
    "import requests\n",
    "import pandas as pd\n",
    "import numpy as np"
   ]
  },
  {
   "cell_type": "code",
   "execution_count": 80,
   "metadata": {},
   "outputs": [],
   "source": [
    "Header = ({'UserAgent':\"Mozilla/5.0 (Windows NT 10.0; Win64; x64) AppleWebKit/537.36 (KHTML, like Gecko) Chrome/113.0.0.0 Safari/537.36 Edg/113.0.1774.50\", 'Accept-Language':\"en-US,en;q=0.5\"})"
   ]
  },
  {
   "cell_type": "code",
   "execution_count": 81,
   "metadata": {},
   "outputs": [],
   "source": [
    "def get_title(soup):\n",
    "    title_string = \"\"\n",
    "    try:\n",
    "        mainTitle = soup.find(\"h1\", attrs={\"id\":'title', \"class\":'a-size-large a-spacing-none'})\n",
    "        if mainTitle:\n",
    "            title = mainTitle.find(\"span\", attrs={\"id\":'productTitle', \"class\":'a-size-large product-title-word-break'})\n",
    "            title_value = title.text\n",
    "            title_string = title_value.strip()\n",
    "    except AttributeError:\n",
    "        title_string = \"\"\n",
    "    return title_string"
   ]
  },
  {
   "cell_type": "code",
   "execution_count": 82,
   "metadata": {},
   "outputs": [],
   "source": [
    "def get_price(soup):\n",
    "    price = \"\"\n",
    "    try:\n",
    "        parent_element = soup.find('span', attrs = {\"class\":\"a-price aok-align-center reinventPricePriceToPayMargin priceToPay\",\"data-a-size\":\"xl\",\"data-a-color\":\"base\"})\n",
    "        if parent_element:\n",
    "            name = parent_element.find('span', attrs = {\"class\":\"a-price-whole\"})\n",
    "            if name:\n",
    "                price = name.text\n",
    "    except AttributeError:\n",
    "        price = \"\"\n",
    "    return price"
   ]
  },
  {
   "cell_type": "code",
   "execution_count": 83,
   "metadata": {},
   "outputs": [],
   "source": [
    "def get_rating(soup):\n",
    "    rating = \"\"\n",
    "    try:\n",
    "        rating_mainDiv= soup.find(\"span\", attrs={\"id\":\"acrPopover\",\"class\":\"reviewCountTextLinkedHistogram noUnderline\"})\n",
    "        if rating_mainDiv:\n",
    "            rating_span = rating_mainDiv.find(\"span\", attrs={\"class\":\"a-declarative\",\"data-action\":\"a-popover\",\"data-csa-c-type\":\"widget\"})\n",
    "            if rating_span:\n",
    "                rating_link = rating_span.find(\"a\", attrs={\"href\":\"javascript:void(0)\",\"role\":\"button\",\"class\":\"a-popover-trigger a-declarative\"})\n",
    "                if rating_link:\n",
    "                    rating = rating_link.find(\"span\", attrs={\"class\":\"a-size-base a-color-base\"}).text\n",
    "    except AttributeError:\n",
    "        rating = \"\"\t\n",
    "    return rating"
   ]
  },
  {
   "cell_type": "code",
   "execution_count": 84,
   "metadata": {},
   "outputs": [],
   "source": [
    "def get_review_count(soup):\n",
    "    review_count = \"\"\n",
    "    try:\n",
    "        review_div = soup.find(\"a\", attrs={\"id\":\"acrCustomerReviewLink\",\"class\":\"a-link-normal\",\"href\":\"#customerReviews\"})\n",
    "        if review_div:\n",
    "            review_count = review_div.find(\"span\", attrs={'id':'acrCustomerReviewText'}).text\n",
    "    except AttributeError:\n",
    "        review_count = \"\"\t\n",
    "    return review_count"
   ]
  },
  {
   "cell_type": "code",
   "execution_count": 85,
   "metadata": {},
   "outputs": [],
   "source": [
    "def get_availability(soup):\n",
    "    available = \"\"\n",
    "    try:\n",
    "        available = soup.find(\"div\", attrs={'id':'availability'})\n",
    "        available = available.find(\"span\").string.strip()\n",
    "    except AttributeError:\n",
    "        available = \"Not Available\"\t\n",
    "    return available"
   ]
  },
  {
   "cell_type": "code",
   "execution_count": 86,
   "metadata": {},
   "outputs": [],
   "source": [
    "URL = \"https://www.amazon.in/s?k=bags&crid=2M096C61O4MLT&qid=1653308124&sprefix=ba%2Caps%2C283&ref=sr_pg_1\""
   ]
  },
  {
   "cell_type": "code",
   "execution_count": 87,
   "metadata": {},
   "outputs": [],
   "source": [
    "webpage = requests.get(URL, headers=Header)"
   ]
  },
  {
   "cell_type": "code",
   "execution_count": 88,
   "metadata": {},
   "outputs": [],
   "source": [
    "soup = BeautifulSoup(webpage.content, \"html.parser\")"
   ]
  },
  {
   "cell_type": "code",
   "execution_count": 89,
   "metadata": {},
   "outputs": [],
   "source": [
    "links = soup.find_all(\"a\", attrs={'class':'a-link-normal s-no-outline'})"
   ]
  },
  {
   "cell_type": "code",
   "execution_count": 90,
   "metadata": {},
   "outputs": [],
   "source": [
    "links_list = []"
   ]
  },
  {
   "cell_type": "code",
   "execution_count": 91,
   "metadata": {},
   "outputs": [],
   "source": [
    "for link in links:\n",
    "    links_list.append(link.get('href'))\n",
    "    "
   ]
  },
  {
   "cell_type": "code",
   "execution_count": 92,
   "metadata": {},
   "outputs": [],
   "source": [
    "d = {\"title\":[], \"price\":[], \"rating\":[], \"reviews\":[],\"availability\":[]}"
   ]
  },
  {
   "cell_type": "code",
   "execution_count": 93,
   "metadata": {},
   "outputs": [],
   "source": [
    "for link in links_list:\n",
    "    new_webpage = requests.get(\"https://www.amazon.com\" + link, headers=Header)\n",
    "    new_soup = BeautifulSoup(new_webpage.content, \"html.parser\")\n",
    "    d['title'].append(get_title(new_soup))\n",
    "    d['price'].append(get_price(new_soup))\n",
    "    d['rating'].append(get_rating(new_soup))\n",
    "    d['reviews'].append(get_review_count(new_soup))\n",
    "    d['availability'].append(get_availability(new_soup))"
   ]
  },
  {
   "cell_type": "code",
   "execution_count": 94,
   "metadata": {},
   "outputs": [],
   "source": [
    "amazon_df = pd.DataFrame.from_dict(d)\n",
    "amazon_df['title'].replace('', np.nan, inplace=True)"
   ]
  },
  {
   "cell_type": "code",
   "execution_count": 95,
   "metadata": {},
   "outputs": [],
   "source": [
    "amazon_df.dropna(subset=['title'], inplace=True)"
   ]
  },
  {
   "cell_type": "code",
   "execution_count": 97,
   "metadata": {},
   "outputs": [
    {
     "data": {
      "text/html": [
       "<div>\n",
       "<style scoped>\n",
       "    .dataframe tbody tr th:only-of-type {\n",
       "        vertical-align: middle;\n",
       "    }\n",
       "\n",
       "    .dataframe tbody tr th {\n",
       "        vertical-align: top;\n",
       "    }\n",
       "\n",
       "    .dataframe thead th {\n",
       "        text-align: right;\n",
       "    }\n",
       "</style>\n",
       "<table border=\"1\" class=\"dataframe\">\n",
       "  <thead>\n",
       "    <tr style=\"text-align: right;\">\n",
       "      <th></th>\n",
       "      <th>title</th>\n",
       "      <th>price</th>\n",
       "      <th>rating</th>\n",
       "      <th>reviews</th>\n",
       "      <th>availability</th>\n",
       "    </tr>\n",
       "  </thead>\n",
       "  <tbody>\n",
       "  </tbody>\n",
       "</table>\n",
       "</div>"
      ],
      "text/plain": [
       "Empty DataFrame\n",
       "Columns: [title, price, rating, reviews, availability]\n",
       "Index: []"
      ]
     },
     "execution_count": 97,
     "metadata": {},
     "output_type": "execute_result"
    }
   ],
   "source": [
    "amazon_df"
   ]
  },
  {
   "cell_type": "code",
   "execution_count": 98,
   "metadata": {},
   "outputs": [
    {
     "data": {
      "text/plain": [
       "['',\n",
       " '',\n",
       " '',\n",
       " '',\n",
       " '',\n",
       " '',\n",
       " '',\n",
       " '',\n",
       " '',\n",
       " '',\n",
       " '',\n",
       " '',\n",
       " '',\n",
       " '',\n",
       " '',\n",
       " '',\n",
       " '',\n",
       " '',\n",
       " '',\n",
       " '',\n",
       " '',\n",
       " '',\n",
       " '',\n",
       " '',\n",
       " '']"
      ]
     },
     "execution_count": 98,
     "metadata": {},
     "output_type": "execute_result"
    }
   ],
   "source": [
    "d[\"title\"]"
   ]
  }
 ],
 "metadata": {
  "kernelspec": {
   "display_name": "Python 3",
   "language": "python",
   "name": "python3"
  },
  "language_info": {
   "codemirror_mode": {
    "name": "ipython",
    "version": 3
   },
   "file_extension": ".py",
   "mimetype": "text/x-python",
   "name": "python",
   "nbconvert_exporter": "python",
   "pygments_lexer": "ipython3",
   "version": "3.10.9"
  },
  "orig_nbformat": 4
 },
 "nbformat": 4,
 "nbformat_minor": 2
}
